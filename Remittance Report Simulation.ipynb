{
 "cells": [
  {
   "cell_type": "code",
   "execution_count": 10,
   "metadata": {},
   "outputs": [],
   "source": [
    "from sqlalchemy import create_engine\n",
    "import pandas as pd\n",
    "import xlwings as xw\n",
    "import os\n",
    "\n",
    "\n",
    "\n",
    "Driver = 'ODBC Driver 17 for SQL Server'\n",
    "Server = 'DESKTOP-BJV50NH\\SQLEXPRESS'\n",
    "Database = 'AdventureWorks2019'\n",
    "database_con = f'mssql://@{Server}/{Database}?driver={Driver}'\n",
    "    \n",
    "engine = create_engine(database_con)\n",
    "connection = engine.connect()\n",
    "\n",
    "dfNorthEast= pd.read_sql_query(\"\"\"SELECT [group], [CustomerID],[PersonID],[StoreID],c.[TerritoryID],\n",
    "[AccountNumber]FROM [AdventureWorks2019].[Sales].[Customer] as c \n",
    "inner join [AdventureWorks2019].[Sales].[SalesTerritory] as st on c.territoryid = st.territoryid\n",
    "where st.[group] = 'North America'\"\"\",connection)\n",
    "#df.to_excel(\"C:/Users/mrjod/Desktop/Python Training/test.xlsx\")\n",
    "\n",
    "dfCentral= pd.read_sql_query(\"\"\"SELECT [group], [CustomerID],[PersonID],[StoreID],c.[TerritoryID],\n",
    "[AccountNumber]FROM [AdventureWorks2019].[Sales].[Customer] as c \n",
    "inner join [AdventureWorks2019].[Sales].[SalesTerritory] as st on c.territoryid = st.territoryid\n",
    "where st.[group] = 'Europe'\"\"\",connection)\n",
    "\n",
    "dfFrance= pd.read_sql_query(\"\"\"SELECT [group], [CustomerID],[PersonID],[StoreID],c.[TerritoryID],\n",
    "[AccountNumber]FROM [AdventureWorks2019].[Sales].[Customer] as c \n",
    "inner join [AdventureWorks2019].[Sales].[SalesTerritory] as st on c.territoryid = st.territoryid\n",
    "where st.[group] = 'Pacific'\"\"\",connection)\n",
    "\n",
    "Pass = '02Aug'\n",
    "\n",
    "dfNorthEast.to_excel(\"C:/Users/mrjod/Desktop/Python Training/Exporting SQL Query to Excel Pt1.xlsx\",index=False)\n",
    "dfCentral.to_excel(\"C:/Users/mrjod/Desktop/Python Training/Exporting SQL Query to Excel Pt2.xlsx\",index=False)\n",
    "dfFrance.to_excel(\"C:/Users/mrjod/Desktop/Python Training/Exporting SQL Query to Excel Pt3.xlsx\",index=False)\n",
    "\n",
    "book1 = xw.Book(r\"C:\\Users\\mrjod/Desktop\\Python Training\\Exporting SQL Query to Excel Pt1.xlsx\")\n",
    "book1.api.SaveAs(r\"C:\\Users\\mrjod/Desktop\\Python Training\\Exporting SQL Query to Excel Pt1\" + str(Pass) + \".xlsx\", Password = Pass, Local = 'True')\n",
    "\n",
    "book2 = xw.Book(r\"C:\\Users\\mrjod/Desktop\\Python Training\\Exporting SQL Query to Excel Pt2.xlsx\")\n",
    "book2.api.SaveAs(r\"C:\\Users\\mrjod/Desktop\\Python Training\\Exporting SQL Query to Excel Pt2\" + str(Pass) + \".xlsx\", Password = Pass, Local = 'True')\n",
    "\n",
    "book3 = xw.Book(r\"C:\\Users\\mrjod/Desktop\\Python Training\\Exporting SQL Query to Excel Pt3.xlsx\")\n",
    "book3.api.SaveAs(r\"C:\\Users\\mrjod/Desktop\\Python Training\\Exporting SQL Query to Excel Pt3\" + str(Pass) + \".xlsx\", Password = Pass, Local = 'True')\n",
    "\n",
    "book1.close()\n",
    "book2.close()\n",
    "book3.close()\n",
    "\n",
    "\n",
    "os.remove(\"C:/Users/mrjod/Desktop/Python Training/Exporting SQL Query to Excel Pt1.xlsx\")\n",
    "os.remove(\"C:/Users/mrjod/Desktop/Python Training/Exporting SQL Query to Excel Pt2.xlsx\")\n",
    "os.remove(\"C:/Users/mrjod/Desktop/Python Training/Exporting SQL Query to Excel Pt3.xlsx\")\n",
    "\n",
    "  "
   ]
  },
  {
   "cell_type": "code",
   "execution_count": 9,
   "metadata": {},
   "outputs": [],
   "source": []
  },
  {
   "cell_type": "code",
   "execution_count": null,
   "metadata": {},
   "outputs": [],
   "source": []
  }
 ],
 "metadata": {
  "kernelspec": {
   "display_name": "Python 3",
   "language": "python",
   "name": "python3"
  },
  "language_info": {
   "codemirror_mode": {
    "name": "ipython",
    "version": 3
   },
   "file_extension": ".py",
   "mimetype": "text/x-python",
   "name": "python",
   "nbconvert_exporter": "python",
   "pygments_lexer": "ipython3",
   "version": "3.7.3"
  }
 },
 "nbformat": 4,
 "nbformat_minor": 2
}
