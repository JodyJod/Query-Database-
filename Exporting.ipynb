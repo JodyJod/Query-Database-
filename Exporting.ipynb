{
 "cells": [
  {
   "cell_type": "code",
   "execution_count": 4,
   "metadata": {},
   "outputs": [],
   "source": [
    "from sqlalchemy import create_engine\n",
    "import pandas as pd\n",
    "import xlwings as xw\n"
   ]
  },
  {
   "cell_type": "code",
   "execution_count": null,
   "metadata": {
    "scrolled": true
   },
   "outputs": [],
   "source": []
  },
  {
   "cell_type": "code",
   "execution_count": 5,
   "metadata": {},
   "outputs": [],
   "source": [
    "\n",
    "Driver = 'ODBC Driver 17 for SQL Server'\n",
    "Server = 'DESKTOP-BJV50NH\\SQLEXPRESS'\n",
    "Database = 'AdventureWorks2019'\n",
    "database_con = f'mssql://@{Server}/{Database}?driver={Driver}'\n",
    "    \n",
    "engine = create_engine(database_con)\n",
    "connection = engine.connect()\n",
    "\n",
    "dfNorthEast= pd.read_sql_query(\"\"\"SELECT [group], [CustomerID],[PersonID],[StoreID],c.[TerritoryID],\n",
    "[AccountNumber]FROM [AdventureWorks2019].[Sales].[Customer] as c \n",
    "inner join [AdventureWorks2019].[Sales].[SalesTerritory] as st on c.territoryid = st.territoryid\n",
    "where st.[group] = 'North America'\"\"\",connection)\n",
    "#df.to_excel(\"C:/Users/mrjod/Desktop/Python Training/test.xlsx\")\n",
    "\n",
    "dfCentral= pd.read_sql_query(\"\"\"SELECT [group], [CustomerID],[PersonID],[StoreID],c.[TerritoryID],\n",
    "[AccountNumber]FROM [AdventureWorks2019].[Sales].[Customer] as c \n",
    "inner join [AdventureWorks2019].[Sales].[SalesTerritory] as st on c.territoryid = st.territoryid\n",
    "where st.[group] = 'Europe'\"\"\",connection)\n",
    "\n",
    "dfFrance= pd.read_sql_query(\"\"\"SELECT [group], [CustomerID],[PersonID],[StoreID],c.[TerritoryID],\n",
    "[AccountNumber]FROM [AdventureWorks2019].[Sales].[Customer] as c \n",
    "inner join [AdventureWorks2019].[Sales].[SalesTerritory] as st on c.territoryid = st.territoryid\n",
    "where st.[group] = 'Pacific'\"\"\",connection)\n",
    "\n",
    "Pass = '02Aug'\n",
    "\n",
    "dfNorthEast.to_excel(\"C:/Users/mrjod/Desktop/Python Training/Exporting SQL Query to Excel Pt1.xlsx\",index=False)\n",
    "dfCentral.to_excel(\"C:/Users/mrjod/Desktop/Python Training/Exporting SQL Query to Excel Pt2.xlsx\",index=False)\n",
    "dfFrance.to_excel(\"C:/Users/mrjod/Desktop/Python Training/Exporting SQL Query to Excel Pt3.xlsx\",index=False)\n",
    "\n",
    "book1 = xw.Book(r\"C:\\Users\\mrjod/Desktop\\Python Training\\Exporting SQL Query to Excel Pt1.xlsx\")\n",
    "book1.api.SaveAs(r\"C:\\Users\\mrjod/Desktop\\Python Training\\Exporting SQL Query to Excel Pt1\" + str(Pass) + \".xlsx\", Password = Pass, Local = 'True')\n",
    "\n",
    "book2 = xw.Book(r\"C:\\Users\\mrjod/Desktop\\Python Training\\Exporting SQL Query to Excel Pt2.xlsx\")\n",
    "book2.api.SaveAs(r\"C:\\Users\\mrjod/Desktop\\Python Training\\Exporting SQL Query to Excel Pt2\" + str(Pass) + \".xlsx\", Password = Pass, Local = 'True')\n",
    "\n",
    "book3 = xw.Book(r\"C:\\Users\\mrjod/Desktop\\Python Training\\Exporting SQL Query to Excel Pt3.xlsx\")\n",
    "book3.api.SaveAs(r\"C:\\Users\\mrjod/Desktop\\Python Training\\Exporting SQL Query to Excel Pt3\" + str(Pass) + \".xlsx\", Password = Pass, Local = 'True')\n",
    "\n",
    "book1.close()\n",
    "book2.close()\n",
    "book3.close()\n",
    "\n",
    "  \n",
    "\n",
    "\n",
    "\n"
   ]
  },
  {
   "cell_type": "code",
   "execution_count": 3,
   "metadata": {},
   "outputs": [],
   "source": [
    "import xlwings as xw\n",
    "\n",
    "book1 = xw.Book(r\"C:\\Users\\mrjod/Desktop\\Python Training\\Exporting SQL Query to Excel Pt1.xlsx\")\n",
    "book1.api.SaveAs(r\"C:\\Users\\mrjod/Desktop\\Python Training\\Exporting SQL Query to Excel Pt1 password.xlsx\", Password = '1234', Local = 'True')\n",
    "\n",
    "book2 = xw.Book(r\"C:\\Users\\mrjod/Desktop\\Python Training\\Exporting SQL Query to Excel Pt2.xlsx\")\n",
    "book2.api.SaveAs(r\"C:\\Users\\mrjod/Desktop\\Python Training\\Exporting SQL Query to Excel Pt2 password.xlsx\", Password = '1234', Local = 'True')\n",
    "\n",
    "book3 = xw.Book(r\"C:\\Users\\mrjod/Desktop\\Python Training\\Exporting SQL Query to Excel Pt3.xlsx\")\n",
    "book3.api.SaveAs(r\"C:\\Users\\mrjod/Desktop\\Python Training\\Exporting SQL Query to Excel Pt3 password.xlsx\", Password = '1234', Local = 'True')\n",
    "\n",
    "book1.close()\n",
    "book2.close()\n",
    "book3.close()\n"
   ]
  },
  {
   "cell_type": "code",
   "execution_count": 4,
   "metadata": {},
   "outputs": [
    {
     "ename": "com_error",
     "evalue": "(-2147352567, 'Exception occurred.', (0, 'Microsoft Excel', \"Microsoft Excel cannot access the file 'C:\\\\//Users/mrjod/Desktop/Python%20Training/ED184430'. There are several possible reasons:\\n\\n• The file name or path does not exist.\\n• The file is being used by another program.\\n• The workbook you are trying to save has the same name as a currently open workbook.\", 'xlmain11.chm', 0, -2146827284), None)",
     "output_type": "error",
     "traceback": [
      "\u001b[1;31m---------------------------------------------------------------------------\u001b[0m",
      "\u001b[1;31mcom_error\u001b[0m                                 Traceback (most recent call last)",
      "\u001b[1;32m<ipython-input-4-4f0134c5831e>\u001b[0m in \u001b[0;36m<module>\u001b[1;34m\u001b[0m\n\u001b[0;32m      1\u001b[0m \u001b[0mbook2\u001b[0m \u001b[1;33m=\u001b[0m \u001b[0mxw\u001b[0m\u001b[1;33m.\u001b[0m\u001b[0mBook\u001b[0m\u001b[1;33m(\u001b[0m\u001b[1;34m\"C:/Users/mrjod/Desktop/Python Training/Exporting SQL Query to Excel Pt2.xlsx\"\u001b[0m\u001b[1;33m)\u001b[0m\u001b[1;33m\u001b[0m\u001b[1;33m\u001b[0m\u001b[0m\n\u001b[1;32m----> 2\u001b[1;33m \u001b[0mbook2\u001b[0m\u001b[1;33m.\u001b[0m\u001b[0mapi\u001b[0m\u001b[1;33m.\u001b[0m\u001b[0mSaveAs\u001b[0m\u001b[1;33m(\u001b[0m\u001b[1;34mr\"C:/Users/mrjod/Desktop/Python Training/Exporting SQL Query to Excel Pt2.xlsx\"\u001b[0m\u001b[1;33m,\u001b[0m \u001b[0mPassword\u001b[0m \u001b[1;33m=\u001b[0m \u001b[1;34m'1234'\u001b[0m\u001b[1;33m)\u001b[0m\u001b[1;33m\u001b[0m\u001b[1;33m\u001b[0m\u001b[0m\n\u001b[0m",
      "\u001b[1;32mC:\\PROGRA~1\\KMSpico\\temp\\gen_py\\3.7\\00020813-0000-0000-C000-000000000046x0x1x9\\_Workbook.py\u001b[0m in \u001b[0;36mSaveAs\u001b[1;34m(self, Filename, FileFormat, Password, WriteResPassword, ReadOnlyRecommended, CreateBackup, AccessMode, ConflictResolution, AddToMru, TextCodepage, TextVisualLayout, Local, WorkIdentity)\u001b[0m\n\u001b[0;32m    286\u001b[0m                         \u001b[1;33m,\u001b[0m \u001b[0mFileFormat\u001b[0m\u001b[1;33m,\u001b[0m \u001b[0mPassword\u001b[0m\u001b[1;33m,\u001b[0m \u001b[0mWriteResPassword\u001b[0m\u001b[1;33m,\u001b[0m \u001b[0mReadOnlyRecommended\u001b[0m\u001b[1;33m,\u001b[0m \u001b[0mCreateBackup\u001b[0m\u001b[1;33m\u001b[0m\u001b[1;33m\u001b[0m\u001b[0m\n\u001b[0;32m    287\u001b[0m                         \u001b[1;33m,\u001b[0m \u001b[0mAccessMode\u001b[0m\u001b[1;33m,\u001b[0m \u001b[0mConflictResolution\u001b[0m\u001b[1;33m,\u001b[0m \u001b[0mAddToMru\u001b[0m\u001b[1;33m,\u001b[0m \u001b[0mTextCodepage\u001b[0m\u001b[1;33m,\u001b[0m \u001b[0mTextVisualLayout\u001b[0m\u001b[1;33m\u001b[0m\u001b[1;33m\u001b[0m\u001b[0m\n\u001b[1;32m--> 288\u001b[1;33m \t\t\t, Local, WorkIdentity)\n\u001b[0m\u001b[0;32m    289\u001b[0m \u001b[1;33m\u001b[0m\u001b[0m\n\u001b[0;32m    290\u001b[0m         \u001b[1;32mdef\u001b[0m \u001b[0mSaveAsXMLData\u001b[0m\u001b[1;33m(\u001b[0m\u001b[0mself\u001b[0m\u001b[1;33m,\u001b[0m \u001b[0mFilename\u001b[0m\u001b[1;33m=\u001b[0m\u001b[0mdefaultNamedNotOptArg\u001b[0m\u001b[1;33m,\u001b[0m \u001b[0mMap\u001b[0m\u001b[1;33m=\u001b[0m\u001b[0mdefaultNamedNotOptArg\u001b[0m\u001b[1;33m)\u001b[0m\u001b[1;33m:\u001b[0m\u001b[1;33m\u001b[0m\u001b[1;33m\u001b[0m\u001b[0m\n",
      "\u001b[1;31mcom_error\u001b[0m: (-2147352567, 'Exception occurred.', (0, 'Microsoft Excel', \"Microsoft Excel cannot access the file 'C:\\\\//Users/mrjod/Desktop/Python%20Training/ED184430'. There are several possible reasons:\\n\\n• The file name or path does not exist.\\n• The file is being used by another program.\\n• The workbook you are trying to save has the same name as a currently open workbook.\", 'xlmain11.chm', 0, -2146827284), None)"
     ]
    }
   ],
   "source": [
    "book2 = xw.Book(\"C:/Users/mrjod/Desktop/Python Training/Exporting SQL Query to Excel Pt2.xlsx\")\n",
    "book2.api.SaveAs(r\"C:/Users/mrjod/Desktop/Python Training/Exporting SQL Query to Excel Pt2.xlsx\", Password = '1234')"
   ]
  },
  {
   "cell_type": "code",
   "execution_count": null,
   "metadata": {},
   "outputs": [],
   "source": []
  },
  {
   "cell_type": "code",
   "execution_count": null,
   "metadata": {},
   "outputs": [],
   "source": []
  },
  {
   "cell_type": "code",
   "execution_count": null,
   "metadata": {},
   "outputs": [],
   "source": []
  },
  {
   "cell_type": "code",
   "execution_count": null,
   "metadata": {},
   "outputs": [],
   "source": []
  }
 ],
 "metadata": {
  "kernelspec": {
   "display_name": "Python 3",
   "language": "python",
   "name": "python3"
  },
  "language_info": {
   "codemirror_mode": {
    "name": "ipython",
    "version": 3
   },
   "file_extension": ".py",
   "mimetype": "text/x-python",
   "name": "python",
   "nbconvert_exporter": "python",
   "pygments_lexer": "ipython3",
   "version": "3.7.3"
  }
 },
 "nbformat": 4,
 "nbformat_minor": 2
}
